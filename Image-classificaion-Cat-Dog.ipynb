{
 "cells": [
  {
   "cell_type": "markdown",
   "id": "c22e3e04",
   "metadata": {},
   "source": [
    "# Convolutional Neural Network"
   ]
  },
  {
   "cell_type": "markdown",
   "id": "9d3c5527",
   "metadata": {},
   "source": [
    "- https://deeplizard.com/resource/pavq7noze3"
   ]
  },
  {
   "cell_type": "code",
   "execution_count": 1,
   "id": "ff63b997",
   "metadata": {},
   "outputs": [
    {
     "name": "stdout",
     "output_type": "stream",
     "text": [
      "WARNING:tensorflow:From C:\\Users\\Hp\\anaconda3\\lib\\site-packages\\keras\\src\\losses.py:2976: The name tf.losses.sparse_softmax_cross_entropy is deprecated. Please use tf.compat.v1.losses.sparse_softmax_cross_entropy instead.\n",
      "\n"
     ]
    }
   ],
   "source": [
    "import tensorflow\n",
    "from keras.layers import Dense, Conv2D, MaxPooling2D, Flatten \n",
    "from keras.models import Sequential\n",
    "from keras.preprocessing.image import ImageDataGenerator"
   ]
  },
  {
   "cell_type": "code",
   "execution_count": 2,
   "id": "6121619b",
   "metadata": {
    "scrolled": true
   },
   "outputs": [
    {
     "name": "stdout",
     "output_type": "stream",
     "text": [
      "WARNING:tensorflow:From C:\\Users\\Hp\\anaconda3\\lib\\site-packages\\keras\\src\\backend.py:873: The name tf.get_default_graph is deprecated. Please use tf.compat.v1.get_default_graph instead.\n",
      "\n"
     ]
    }
   ],
   "source": [
    "cnn = Sequential()"
   ]
  },
  {
   "cell_type": "code",
   "execution_count": 3,
   "id": "86b747dd",
   "metadata": {},
   "outputs": [
    {
     "name": "stdout",
     "output_type": "stream",
     "text": [
      "WARNING:tensorflow:From C:\\Users\\Hp\\anaconda3\\lib\\site-packages\\keras\\src\\layers\\pooling\\max_pooling2d.py:161: The name tf.nn.max_pool is deprecated. Please use tf.nn.max_pool2d instead.\n",
      "\n"
     ]
    }
   ],
   "source": [
    "cnn.add(Conv2D(32,(3,3), input_shape = (64,64,3), activation= 'relu'))\n",
    "cnn.add(MaxPooling2D (pool_size=(2, 2)))\n",
    "cnn.add(Conv2D (16,(3,3), activation = 'relu'))\n",
    "cnn.add(MaxPooling2D(pool_size=(2, 2)))\n",
    "cnn.add(Flatten())"
   ]
  },
  {
   "cell_type": "code",
   "execution_count": 4,
   "id": "7d2ac549",
   "metadata": {},
   "outputs": [],
   "source": [
    "cnn.add(Dense (64, activation='relu')) \n",
    "cnn.add(Dense (32, activation='relu')) \n",
    "cnn.add(Dense (16, activation='relu')) \n",
    "cnn.add(Dense (8,activation='relu')) \n",
    "cnn.add(Dense (4, activation='relu')) \n",
    "cnn.add(Dense (1, activation='sigmoid'))"
   ]
  },
  {
   "cell_type": "code",
   "execution_count": 5,
   "id": "0ca4d2e2",
   "metadata": {},
   "outputs": [
    {
     "name": "stdout",
     "output_type": "stream",
     "text": [
      "WARNING:tensorflow:From C:\\Users\\Hp\\anaconda3\\lib\\site-packages\\keras\\src\\optimizers\\__init__.py:309: The name tf.train.Optimizer is deprecated. Please use tf.compat.v1.train.Optimizer instead.\n",
      "\n"
     ]
    }
   ],
   "source": [
    "cnn.compile(loss='binary_crossentropy', optimizer=\"adam\")"
   ]
  },
  {
   "cell_type": "code",
   "execution_count": null,
   "id": "f2429db7",
   "metadata": {},
   "outputs": [],
   "source": []
  },
  {
   "cell_type": "markdown",
   "id": "37022453",
   "metadata": {},
   "source": [
    "- https://faroit.com/keras-docs/1.2.0/preprocessing/image/\n",
    "-    .flow_from_directory(directory):"
   ]
  },
  {
   "cell_type": "code",
   "execution_count": 6,
   "id": "10e916e4",
   "metadata": {},
   "outputs": [],
   "source": [
    "  # copy from website and paste here"
   ]
  },
  {
   "cell_type": "code",
   "execution_count": 15,
   "id": "1313608c",
   "metadata": {},
   "outputs": [
    {
     "name": "stdout",
     "output_type": "stream",
     "text": [
      "Found 8000 images belonging to 2 classes.\n",
      "Found 2000 images belonging to 2 classes.\n",
      "Epoch 1/20\n",
      "  1/100 [..............................] - ETA: 8s - loss: 0.4941"
     ]
    },
    {
     "name": "stderr",
     "output_type": "stream",
     "text": [
      "C:\\Users\\Hp\\AppData\\Local\\Temp\\ipykernel_8804\\3401704166.py:21: UserWarning: `Model.fit_generator` is deprecated and will be removed in a future version. Please use `Model.fit`, which supports generators.\n",
      "  cnn.fit_generator(train_generator,steps_per_epoch=100,epochs=20,validation_data=test_generator) # 100 image ko 20 bar train hoga\n"
     ]
    },
    {
     "name": "stdout",
     "output_type": "stream",
     "text": [
      "100/100 [==============================] - 9s 90ms/step - loss: 0.4666 - val_loss: 0.4940\n",
      "Epoch 2/20\n",
      "100/100 [==============================] - 10s 97ms/step - loss: 0.4642 - val_loss: 0.4867\n",
      "Epoch 3/20\n",
      "100/100 [==============================] - 9s 89ms/step - loss: 0.4661 - val_loss: 0.5007\n",
      "Epoch 4/20\n",
      "100/100 [==============================] - 9s 94ms/step - loss: 0.4612 - val_loss: 0.4653\n",
      "Epoch 5/20\n",
      "100/100 [==============================] - 10s 99ms/step - loss: 0.4510 - val_loss: 0.4942\n",
      "Epoch 6/20\n",
      "100/100 [==============================] - 10s 99ms/step - loss: 0.4395 - val_loss: 0.4656\n",
      "Epoch 7/20\n",
      "100/100 [==============================] - 10s 101ms/step - loss: 0.4384 - val_loss: 0.5194\n",
      "Epoch 8/20\n",
      "100/100 [==============================] - 10s 99ms/step - loss: 0.4224 - val_loss: 0.4915\n",
      "Epoch 9/20\n",
      "100/100 [==============================] - 11s 107ms/step - loss: 0.4334 - val_loss: 0.4753\n",
      "Epoch 10/20\n",
      "100/100 [==============================] - 9s 91ms/step - loss: 0.4468 - val_loss: 0.4543\n",
      "Epoch 11/20\n",
      "100/100 [==============================] - 9s 89ms/step - loss: 0.4316 - val_loss: 0.4795\n",
      "Epoch 12/20\n",
      "100/100 [==============================] - 9s 89ms/step - loss: 0.4244 - val_loss: 0.4731\n",
      "Epoch 13/20\n",
      "100/100 [==============================] - 9s 89ms/step - loss: 0.4123 - val_loss: 0.4757\n",
      "Epoch 14/20\n",
      "100/100 [==============================] - 9s 89ms/step - loss: 0.4094 - val_loss: 0.4823\n",
      "Epoch 15/20\n",
      "100/100 [==============================] - 9s 91ms/step - loss: 0.4021 - val_loss: 0.4442\n",
      "Epoch 16/20\n",
      "100/100 [==============================] - 9s 91ms/step - loss: 0.4024 - val_loss: 0.4826\n",
      "Epoch 17/20\n",
      "100/100 [==============================] - 10s 99ms/step - loss: 0.4125 - val_loss: 0.4660\n",
      "Epoch 18/20\n",
      "100/100 [==============================] - 9s 86ms/step - loss: 0.4122 - val_loss: 0.5006\n",
      "Epoch 19/20\n",
      "100/100 [==============================] - 9s 87ms/step - loss: 0.3899 - val_loss: 0.4633\n",
      "Epoch 20/20\n",
      "100/100 [==============================] - 9s 87ms/step - loss: 0.3961 - val_loss: 0.4728\n"
     ]
    },
    {
     "data": {
      "text/plain": [
       "<keras.src.callbacks.History at 0x155209b1a50>"
      ]
     },
     "execution_count": 15,
     "metadata": {},
     "output_type": "execute_result"
    }
   ],
   "source": [
    "train_datagen = ImageDataGenerator(\n",
    "        rescale=1./255,\n",
    "        shear_range=0.2,\n",
    "        zoom_range=0.2,\n",
    "        horizontal_flip=True)\n",
    "\n",
    "test_datagen = ImageDataGenerator(rescale=1./255)\n",
    "\n",
    "train_generator = train_datagen.flow_from_directory(\n",
    "        r\"E:\\WsCube YOUTUBE\\training_set\",\n",
    "        target_size=(64, 64),\n",
    "        batch_size=32,\n",
    "        class_mode='binary')\n",
    "\n",
    "test_generator = test_datagen.flow_from_directory(\n",
    "        r\"E:\\WsCube YOUTUBE\\test_set\",\n",
    "        target_size=(64, 64),\n",
    "        batch_size=32,\n",
    "        class_mode='binary')\n",
    "\n",
    "cnn.fit_generator(train_generator,steps_per_epoch=100,epochs=20,validation_data=test_generator) # 100 image ko 20 bar train hoga"
   ]
  },
  {
   "cell_type": "code",
   "execution_count": 16,
   "id": "2cd0bf74",
   "metadata": {},
   "outputs": [],
   "source": [
    "from keras.preprocessing import image\n",
    "import numpy as np"
   ]
  },
  {
   "cell_type": "code",
   "execution_count": 17,
   "id": "2a7fa41c",
   "metadata": {},
   "outputs": [],
   "source": [
    "img = image.load_img(r\"E:\\WsCube YOUTUBE\\cat.4010.jpg\",target_size=(64,64))\n",
    "img = image.img_to_array(img)"
   ]
  },
  {
   "cell_type": "code",
   "execution_count": 18,
   "id": "7a704677",
   "metadata": {},
   "outputs": [
    {
     "data": {
      "text/plain": [
       "array([[[ 93.,  73.,  64.],\n",
       "        [140., 115.,  95.],\n",
       "        [117.,  94.,  80.],\n",
       "        ...,\n",
       "        [ 35.,  28.,  36.],\n",
       "        [ 36.,  29.,  37.],\n",
       "        [ 38.,  30.,  41.]],\n",
       "\n",
       "       [[125., 105.,  94.],\n",
       "        [135., 112.,  94.],\n",
       "        [122.,  99.,  85.],\n",
       "        ...,\n",
       "        [ 31.,  26.,  33.],\n",
       "        [ 32.,  25.,  33.],\n",
       "        [ 35.,  28.,  35.]],\n",
       "\n",
       "       [[146., 126., 115.],\n",
       "        [138., 114., 102.],\n",
       "        [120.,  93.,  76.],\n",
       "        ...,\n",
       "        [ 52.,  45.,  53.],\n",
       "        [ 34.,  27.,  35.],\n",
       "        [ 36.,  30.,  32.]],\n",
       "\n",
       "       ...,\n",
       "\n",
       "       [[249., 137., 183.],\n",
       "        [235., 110., 154.],\n",
       "        [223.,  91., 141.],\n",
       "        ...,\n",
       "        [248., 154., 207.],\n",
       "        [245., 168., 214.],\n",
       "        [236., 195., 225.]],\n",
       "\n",
       "       [[255., 143., 190.],\n",
       "        [234., 107., 150.],\n",
       "        [229., 101., 152.],\n",
       "        ...,\n",
       "        [231., 130., 172.],\n",
       "        [247., 171., 220.],\n",
       "        [242., 177., 217.]],\n",
       "\n",
       "       [[252., 142., 191.],\n",
       "        [238., 118., 163.],\n",
       "        [239., 111., 162.],\n",
       "        ...,\n",
       "        [255., 173., 221.],\n",
       "        [237., 153., 202.],\n",
       "        [244., 186., 224.]]], dtype=float32)"
      ]
     },
     "execution_count": 18,
     "metadata": {},
     "output_type": "execute_result"
    }
   ],
   "source": [
    "img"
   ]
  },
  {
   "cell_type": "code",
   "execution_count": 19,
   "id": "45920835",
   "metadata": {},
   "outputs": [],
   "source": [
    "img= np.expand_dims(img,axis=0)"
   ]
  },
  {
   "cell_type": "code",
   "execution_count": 20,
   "id": "260b2152",
   "metadata": {},
   "outputs": [
    {
     "name": "stdout",
     "output_type": "stream",
     "text": [
      "1/1 [==============================] - 0s 20ms/step\n"
     ]
    },
    {
     "data": {
      "text/plain": [
       "array([[1.]], dtype=float32)"
      ]
     },
     "execution_count": 20,
     "metadata": {},
     "output_type": "execute_result"
    }
   ],
   "source": [
    "cnn.predict(img)     # array([[1.]], dtype=float32)----range 0 to 1 k bich me rahta h becuase we used Sigmoid"
   ]
  },
  {
   "cell_type": "code",
   "execution_count": 21,
   "id": "4cf80f5d",
   "metadata": {},
   "outputs": [
    {
     "name": "stdout",
     "output_type": "stream",
     "text": [
      "1/1 [==============================] - 0s 19ms/step\n"
     ]
    }
   ],
   "source": [
    "p = cnn.predict(img) "
   ]
  },
  {
   "cell_type": "code",
   "execution_count": 22,
   "id": "371c43b0",
   "metadata": {},
   "outputs": [
    {
     "name": "stdout",
     "output_type": "stream",
     "text": [
      "cat\n"
     ]
    }
   ],
   "source": [
    "if p[0][0] < 0.5:                                                             # right predict kia h CAT\n",
    "     print(\"Dog\")\n",
    "else :\n",
    "     print(\"cat\")"
   ]
  },
  {
   "cell_type": "code",
   "execution_count": null,
   "id": "7c7a5f39",
   "metadata": {},
   "outputs": [],
   "source": []
  },
  {
   "cell_type": "code",
   "execution_count": null,
   "id": "b236e472",
   "metadata": {},
   "outputs": [],
   "source": []
  },
  {
   "cell_type": "code",
   "execution_count": null,
   "id": "988a959d",
   "metadata": {},
   "outputs": [],
   "source": []
  }
 ],
 "metadata": {
  "kernelspec": {
   "display_name": "Python 3 (ipykernel)",
   "language": "python",
   "name": "python3"
  },
  "language_info": {
   "codemirror_mode": {
    "name": "ipython",
    "version": 3
   },
   "file_extension": ".py",
   "mimetype": "text/x-python",
   "name": "python",
   "nbconvert_exporter": "python",
   "pygments_lexer": "ipython3",
   "version": "3.10.9"
  }
 },
 "nbformat": 4,
 "nbformat_minor": 5
}
